{
 "cells": [
  {
   "cell_type": "code",
   "execution_count": 1,
   "id": "a1f31ea9",
   "metadata": {},
   "outputs": [],
   "source": [
    "import pandas as pd\n",
    "import sqlite3"
   ]
  },
  {
   "cell_type": "code",
   "execution_count": 2,
   "id": "3cd5bf19",
   "metadata": {},
   "outputs": [],
   "source": [
    "import sqlite3\n",
    "\n",
    "# 连接到数据库\n",
    "conn = sqlite3.connect('../getTradeData/binance-15.db')\n",
    "\n",
    "# 创建游标对象\n",
    "cursor = conn.cursor()\n",
    "\n",
    "\n",
    "# 执行查询语句，获取所有表名\n",
    "cursor.execute(\"SELECT name FROM sqlite_master WHERE type='table';\")\n",
    "tables = cursor.fetchall()\n",
    "\n",
    "tables = [table[0] for table in tables]\n",
    "\n",
    "# 关闭游标和连接\n",
    "cursor.close()\n",
    "conn.close()\n"
   ]
  },
  {
   "cell_type": "code",
   "execution_count": 3,
   "id": "edb75645",
   "metadata": {},
   "outputs": [],
   "source": [
    "def feature(df):\n",
    "    # Calculate RSI\n",
    "    delta = df['close'].diff()\n",
    "    gain = delta.where(delta > 0, 0)\n",
    "    loss = -delta.where(delta < 0, 0)\n",
    "    avg_gain = gain.rolling(window=14).mean()\n",
    "    avg_loss = loss.rolling(window=14).mean()\n",
    "\n",
    "    rs = avg_gain / avg_loss\n",
    "    rsi = 100 - (100 / (1 + rs))\n",
    "\n",
    "    # Calculate EMA\n",
    "    ema_short = df['close'].ewm(span=12).mean()\n",
    "    ema_long = df['close'].ewm(span=26).mean()\n",
    "\n",
    "    # Calculate MACD\n",
    "    macd = ema_short - ema_long\n",
    "    signal_line = macd.ewm(span=9).mean()\n",
    "    histogram = macd - signal_line\n",
    "\n",
    "    # Add RSI, EMA, and MACD to the DataFrame\n",
    "    df['rsi'] = rsi\n",
    "    df['ema_short'] = ema_short\n",
    "    df['ema_long'] = ema_long\n",
    "    df['macd'] = macd\n",
    "    df['signal_line'] = signal_line\n",
    "    df['histogram'] = histogram\n",
    "\n",
    "    df['sma_3'] = df['close'].rolling(window=3).mean()\n",
    "    df['sma_6'] = df['close'].rolling(window=6).mean()\n",
    "    df['sma_12'] = df['close'].rolling(window=12).mean()\n",
    "    # 波动率\n",
    "    df['volatility_std'] = df['close'].rolling(window=5).std()\n",
    "    df['pct_change'] = df['close'].pct_change()\n",
    "    df['sma_20'] = df['close'].rolling(window=20).mean()\n",
    "    df['std_20'] = df['close'].rolling(window=20).std()\n",
    "    df['bollinger_upper'] = df['sma_20'] + 2 * df['std_20']\n",
    "    df['bollinger_middle'] = df['sma_20']\n",
    "    df['bollinger_lower'] = df['sma_20'] - 2 * df['std_20']\n",
    "    df['diff_bollinger_upper'] = df['close'] - df['bollinger_upper']\n",
    "    df['diff_bollinger_lower'] = df['close'] - df['bollinger_lower']\n",
    "    df['diff_sma_3'] = df['close'] - df['sma_3']\n",
    "    df['diff_sma_6'] = df['close'] - df['sma_6']\n",
    "    df['diff_sma_12'] = df['close'] - df['sma_12']\n",
    "    return df"
   ]
  },
  {
   "cell_type": "code",
   "execution_count": 4,
   "id": "4b4f8031",
   "metadata": {},
   "outputs": [],
   "source": [
    "def find_extrema_indices_no_slip(close, window_size):\n",
    "    max_indices = []\n",
    "    min_indices = []\n",
    "\n",
    "    for i in range(0, len(close) - window_size + 1, window_size):\n",
    "        window = close[i:i+window_size]\n",
    "        max_value = max(window)\n",
    "        min_value = min(window)\n",
    "        max_index = window.index(max_value) + i\n",
    "        min_index = window.index(min_value) + i\n",
    "        if max_index != i and max_index != i + window_size - 1 and max_index not in max_indices:\n",
    "            max_indices.append(max_index)\n",
    "        if min_index != i and min_index != i + window_size - 1 and min_index not in min_indices:\n",
    "            min_indices.append(min_index)\n",
    "    \n",
    "    return max_indices, min_indices"
   ]
  },
  {
   "cell_type": "code",
   "execution_count": 5,
   "id": "c0ccd80f",
   "metadata": {},
   "outputs": [],
   "source": [
    "def find_extrema_indices(close, window_size):\n",
    "    max_indices = []\n",
    "    min_indices = []\n",
    "\n",
    "    for i in range(0, len(close) - window_size + 1):\n",
    "        window = close[i:i+window_size]\n",
    "        max_value = max(window)\n",
    "        min_value = min(window)\n",
    "        max_index = window.index(max_value) + i\n",
    "        min_index = window.index(min_value) + i\n",
    "        if max_index != i and max_index != i + window_size - 1 and max_index not in max_indices:\n",
    "            max_indices.append(max_index)\n",
    "        if min_index != i and min_index != i + window_size - 1 and min_index not in min_indices:\n",
    "            min_indices.append(min_index)\n",
    "    \n",
    "    return min_indices,max_indices "
   ]
  },
  {
   "cell_type": "code",
   "execution_count": 6,
   "id": "97cbd897",
   "metadata": {},
   "outputs": [],
   "source": [
    "def pair_max_min(max_indices, min_indices):\n",
    "    paired_max_indices = []\n",
    "    paired_min_indices = []\n",
    "\n",
    "    # Merge and sort indices\n",
    "    all_indices = sorted(max_indices + min_indices)\n",
    "\n",
    "    for i in range(len(all_indices) - 1):\n",
    "        if all_indices[i] in max_indices and all_indices[i+1] in min_indices:\n",
    "            paired_max_indices.append(all_indices[i])\n",
    "            paired_min_indices.append(all_indices[i+1])\n",
    "\n",
    "    return paired_max_indices, paired_min_indices\n"
   ]
  },
  {
   "cell_type": "code",
   "execution_count": 10,
   "id": "f0d311cd",
   "metadata": {},
   "outputs": [],
   "source": [
    "# 买入/卖出信号\n",
    "def signal(df,close,buy_indices,sell_indices,buy_indices_slip,sell_indices_slip):\n",
    "    buy_sell_signal = [1]*len(close)\n",
    "    for buy in buy_indices_slip:\n",
    "        buy_sell_signal[buy] = 2\n",
    "    for buy1 in sell_indices_slip:\n",
    "        buy_sell_signal[buy1] = 3\n",
    "    for buy2 in buy_indices:\n",
    "        buy_sell_signal[buy2] = 4\n",
    "    for buy3 in sell_indices:\n",
    "        buy_sell_signal[buy3] = 6    \n",
    "    df[['signal']] = pd.DataFrame(data=buy_sell_signal)\n",
    "    return df"
   ]
  },
  {
   "cell_type": "code",
   "execution_count": 11,
   "id": "527d1b41",
   "metadata": {},
   "outputs": [
    {
     "name": "stdout",
     "output_type": "stream",
     "text": [
      "ETHUSDT-1\n",
      "BTCUSDT-2\n",
      "LTCUSDT-3\n",
      "BCHUSDT-4\n",
      "EOSUSDT-5\n",
      "XRPUSDT-6\n",
      "ETCUSDT-7\n",
      "ADAUSDT-8\n",
      "ZECUSDT-9\n",
      "BNBUSDT-10\n",
      "LINKUSDT-11\n",
      "USDCUSDT-12\n",
      "MATICUSDT-13\n",
      "FILUSDT-14\n",
      "AXSUSDT-15\n",
      "DODOUSDT-16\n",
      "INJUSDT-17\n",
      "CFXUSDT-18\n",
      "ENSUSDT-19\n",
      "LINAUSDT-20\n",
      "DOGEUSDT-21\n",
      "UNIUSDT-22\n",
      "XLMUSDT-23\n",
      "TRXUSDT-24\n",
      "XMRUSDT-25\n",
      "XTZUSDT-26\n",
      "ATOMUSDT-27\n",
      "VETUSDT-28\n",
      "NEOUSDT-29\n",
      "QTUMUSDT-30\n",
      "SUSHIUSDT-31\n",
      "OPUSDT-32\n",
      "ICPUSDT-33\n",
      "AVAXUSDT-34\n",
      "DOTUSDT-35\n",
      "SOLUSDT-36\n",
      "AAVEUSDT-37\n"
     ]
    }
   ],
   "source": [
    "df_list = []\n",
    "count = 1\n",
    "numeric_columns = ['open', 'high', 'low', 'close', 'volume', 'quote_asset_volume', 'taker_buy_base_asset_volume', 'taker_buy_quote_asset_volume']\n",
    "\n",
    "for table in tables:\n",
    "    connection = sqlite3.connect(\"../getTradeData/binance-15.db\")\n",
    "    sql_query = f\"SELECT * FROM {table}\"\n",
    "    df = pd.read_sql_query(sql_query, connection)\n",
    "    connection.close()\n",
    "    df[numeric_columns] = df[numeric_columns].astype(float)\n",
    "    df = feature(df)\n",
    "    df = df.iloc[20:]\n",
    "    df.reset_index(drop=True, inplace=True)\n",
    "    close = df[['close']]\n",
    "    close  = close.values.tolist()\n",
    "    close = [item for sublist in close for item in sublist]\n",
    "    min_indices,max_indices = find_extrema_indices_no_slip(close,300)\n",
    "    min_indices_slip,max_indices_slip = find_extrema_indices(close,300)\n",
    "    buy_indices,sell_indices = pair_max_min(max_indices, min_indices)\n",
    "    df = signal(df,close,buy_indices,sell_indices,min_indices_slip,max_indices_slip)\n",
    "    print(f\"{table}-{count}\")\n",
    "    df[['tag']] = pd.DataFrame(data=[count] * len(close))\n",
    "    count += 1\n",
    "    df_list.append(df)\n"
   ]
  },
  {
   "cell_type": "code",
   "execution_count": 12,
   "id": "9c76f8fe",
   "metadata": {},
   "outputs": [],
   "source": [
    "merged_df = pd.concat(df_list, axis=0)"
   ]
  },
  {
   "cell_type": "code",
   "execution_count": 13,
   "id": "dfe2f6b7",
   "metadata": {},
   "outputs": [
    {
     "data": {
      "text/plain": [
       "(4888431, 35)"
      ]
     },
     "execution_count": 13,
     "metadata": {},
     "output_type": "execute_result"
    }
   ],
   "source": [
    "merged_df.shape"
   ]
  },
  {
   "cell_type": "code",
   "execution_count": 14,
   "id": "b425414d",
   "metadata": {},
   "outputs": [
    {
     "data": {
      "text/plain": [
       "(91907, 35)"
      ]
     },
     "execution_count": 14,
     "metadata": {},
     "output_type": "execute_result"
    }
   ],
   "source": [
    "df.shape"
   ]
  },
  {
   "cell_type": "code",
   "execution_count": 15,
   "id": "b7fd29ae",
   "metadata": {},
   "outputs": [
    {
     "data": {
      "text/plain": [
       "Index(['open_time', 'open', 'high', 'low', 'close', 'volume', 'close_time',\n",
       "       'quote_asset_volume', 'number_of_trades', 'taker_buy_base_asset_volume',\n",
       "       'taker_buy_quote_asset_volume', 'ignore', 'rsi', 'ema_short',\n",
       "       'ema_long', 'macd', 'signal_line', 'histogram', 'sma_3', 'sma_6',\n",
       "       'sma_12', 'volatility_std', 'pct_change', 'sma_20', 'std_20',\n",
       "       'bollinger_upper', 'bollinger_middle', 'bollinger_lower',\n",
       "       'diff_bollinger_upper', 'diff_bollinger_lower', 'diff_sma_3',\n",
       "       'diff_sma_6', 'diff_sma_12', 'signal', 'tag'],\n",
       "      dtype='object')"
      ]
     },
     "execution_count": 15,
     "metadata": {},
     "output_type": "execute_result"
    }
   ],
   "source": [
    "merged_df.columns"
   ]
  },
  {
   "cell_type": "code",
   "execution_count": 16,
   "id": "a0265708",
   "metadata": {},
   "outputs": [],
   "source": [
    "merged_df.to_csv(\"all-coin.csv\",encoding=\"utf-8-sig\")"
   ]
  },
  {
   "cell_type": "code",
   "execution_count": 15,
   "id": "7a364bfd",
   "metadata": {},
   "outputs": [],
   "source": [
    "merged_df = pd.read_csv(\"all-coin.csv\",encoding=\"utf-8-sig\")"
   ]
  },
  {
   "cell_type": "code",
   "execution_count": 16,
   "id": "7cd91642",
   "metadata": {},
   "outputs": [],
   "source": [
    "df_filtered = merged_df[merged_df['tag'] == 3]"
   ]
  },
  {
   "cell_type": "code",
   "execution_count": 17,
   "id": "74a8a5f3",
   "metadata": {},
   "outputs": [
    {
     "data": {
      "text/plain": [
       "Index(['Unnamed: 0', 'open_time', 'open', 'high', 'low', 'close', 'volume',\n",
       "       'close_time', 'quote_asset_volume', 'number_of_trades',\n",
       "       'taker_buy_base_asset_volume', 'taker_buy_quote_asset_volume', 'ignore',\n",
       "       'rsi', 'ema_short', 'ema_long', 'macd', 'signal_line', 'histogram',\n",
       "       'sma_3', 'sma_6', 'sma_12', 'volatility_std', 'pct_change', 'sma_20',\n",
       "       'std_20', 'bollinger_upper', 'bollinger_middle', 'bollinger_lower',\n",
       "       'diff_bollinger_upper', 'diff_bollinger_lower', 'diff_sma_3',\n",
       "       'diff_sma_6', 'diff_sma_12', 'signal', 'tag'],\n",
       "      dtype='object')"
      ]
     },
     "execution_count": 17,
     "metadata": {},
     "output_type": "execute_result"
    }
   ],
   "source": [
    "df_filtered.columns"
   ]
  },
  {
   "cell_type": "code",
   "execution_count": 18,
   "id": "88becb9f",
   "metadata": {},
   "outputs": [],
   "source": [
    "df = merged_df[merged_df['tag'] == 10][['close_time','close','signal']]"
   ]
  },
  {
   "cell_type": "code",
   "execution_count": 23,
   "id": "bbdb53de",
   "metadata": {},
   "outputs": [
    {
     "data": {
      "image/png": "[encoded data removed]",
      "text/plain": [
       "<Figure size 432x288 with 1 Axes>"
      ]
     },
     "metadata": {
      "needs_background": "light"
     },
     "output_type": "display_data"
    }
   ],
   "source": [
    "import matplotlib.pyplot as plt\n",
    "# 绘制折线图\n",
    "plt.plot(df['close_time'], df['close'], label='Close')\n",
    "plt.scatter(df['close_time'], df['close'], c=df['signal'], cmap='viridis')\n",
    "\n",
    "# 添加买入、卖出标记\n",
    "buy_indices = df.index[df['signal'] == 2]\n",
    "sell_indices = df.index[df['signal'] == 3]\n",
    "plt.scatter(buy_indices, df.loc[buy_indices, 'close'], color='green', marker='^', label='Buy')\n",
    "plt.scatter(sell_indices, df.loc[sell_indices, 'close'], color='red', marker='v', label='Sell')\n",
    "plt.xlim(1500000000000, 1700000000000)\n",
    "\n",
    "# 设置图例和标题\n",
    "plt.legend()\n",
    "plt.title('Stock Price')\n",
    "\n",
    "# 显示图形\n",
    "plt.show()"
   ]
  },
  {
   "cell_type": "code",
   "execution_count": 30,
   "id": "3db7295c",
   "metadata": {},
   "outputs": [
    {
     "data": {
      "image/png": "[encoded data removed]",
      "text/plain": [
       "<Figure size 1008x504 with 1 Axes>"
      ]
     },
     "metadata": {
      "needs_background": "light"
     },
     "output_type": "display_data"
    }
   ],
   "source": [
    "plt.figure(figsize=(14,7))\n",
    "# 绘制折线图\n",
    "plt.plot(df['close_time'], df['close'], label='Close')\n",
    "plt.scatter(df['close_time'], df['close'])\n",
    "\n",
    "# 添加买入、卖出标记\n",
    "buy_indices = df.index[df['signal'] == 2]\n",
    "sell_indices = df.index[df['signal'] == 3]\n",
    "plt.scatter(buy_indices, df.loc[buy_indices, 'close'], color='green', marker='^', label='Buy')\n",
    "plt.scatter(sell_indices, df.loc[sell_indices, 'close'], color='red', marker='v', label='Sell')\n",
    "buy_indices = df.index[df['signal'] == 4]\n",
    "sell_indices = df.index[df['signal'] == 6]\n",
    "plt.scatter(buy_indices, df.loc[buy_indices, 'close'], color='yellow', marker='^', label='Buy')\n",
    "plt.scatter(sell_indices, df.loc[sell_indices, 'close'], color='orange', marker='v', label='Sell')\n",
    "# 设置图例和标题\n",
    "plt.legend()\n",
    "plt.title('Stock Price')\n",
    "\n",
    "# 设置x轴范围\n",
    "plt.xlim(1650000000000, 1651000000000)\n",
    "plt.ylim(380, 435)\n",
    "\n",
    "# 显示图形\n",
    "plt.show()"
   ]
  },
  {
   "cell_type": "code",
   "execution_count": null,
   "id": "13b41126",
   "metadata": {},
   "outputs": [],
   "source": []
  }
 ],
 "metadata": {
  "kernelspec": {
   "display_name": "Python 3 (ipykernel)",
   "language": "python",
   "name": "python3"
  },
  "language_info": {
   "codemirror_mode": {
    "name": "ipython",
    "version": 3
   },
   "file_extension": ".py",
   "mimetype": "text/x-python",
   "name": "python",
   "nbconvert_exporter": "python",
   "pygments_lexer": "ipython3",
   "version": "3.9.7"
  }
 },
 "nbformat": 4,
 "nbformat_minor": 5
}
