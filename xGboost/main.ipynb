{
 "cells": [
  {
   "cell_type": "code",
   "execution_count": 2,
   "metadata": {
    "execution": {
     "iopub.execute_input": "2023-10-28T08:32:56.123486Z",
     "iopub.status.busy": "2023-10-28T08:32:56.122215Z",
     "iopub.status.idle": "2023-10-28T08:32:56.127219Z",
     "shell.execute_reply": "2023-10-28T08:32:56.126531Z",
     "shell.execute_reply.started": "2023-10-28T08:32:56.123431Z"
    },
    "scrolled": true,
    "tags": []
   },
   "outputs": [],
   "source": [
    "import pandas as pd\n",
    "import numpy as np"
   ]
  },
  {
   "cell_type": "code",
   "execution_count": 3,
   "metadata": {
    "execution": {
     "iopub.execute_input": "2023-10-28T08:32:56.128919Z",
     "iopub.status.busy": "2023-10-28T08:32:56.128591Z",
     "iopub.status.idle": "2023-10-28T08:33:27.148747Z",
     "shell.execute_reply": "2023-10-28T08:33:27.147659Z",
     "shell.execute_reply.started": "2023-10-28T08:32:56.128897Z"
    },
    "scrolled": true,
    "tags": []
   },
   "outputs": [],
   "source": [
    "df = pd.read_csv(\"./all-coin.csv\")"
   ]
  },
  {
   "cell_type": "code",
   "execution_count": 4,
   "metadata": {
    "execution": {
     "iopub.execute_input": "2023-10-28T08:33:27.150402Z",
     "iopub.status.busy": "2023-10-28T08:33:27.150109Z",
     "iopub.status.idle": "2023-10-28T08:33:27.170901Z",
     "shell.execute_reply": "2023-10-28T08:33:27.170004Z",
     "shell.execute_reply.started": "2023-10-28T08:33:27.150379Z"
    },
    "scrolled": true
   },
   "outputs": [
    {
     "data": {
      "text/html": [
       "<div>\n",
       "<style scoped>\n",
       "    .dataframe tbody tr th:only-of-type {\n",
       "        vertical-align: middle;\n",
       "    }\n",
       "\n",
       "    .dataframe tbody tr th {\n",
       "        vertical-align: top;\n",
       "    }\n",
       "\n",
       "    .dataframe thead th {\n",
       "        text-align: right;\n",
       "    }\n",
       "</style>\n",
       "<table border=\"1\" class=\"dataframe\">\n",
       "  <thead>\n",
       "    <tr style=\"text-align: right;\">\n",
       "      <th></th>\n",
       "      <th>Unnamed: 0</th>\n",
       "      <th>open_time</th>\n",
       "      <th>open</th>\n",
       "      <th>high</th>\n",
       "      <th>low</th>\n",
       "      <th>close</th>\n",
       "      <th>volume</th>\n",
       "      <th>close_time</th>\n",
       "      <th>quote_asset_volume</th>\n",
       "      <th>number_of_trades</th>\n",
       "      <th>...</th>\n",
       "      <th>bollinger_upper</th>\n",
       "      <th>bollinger_middle</th>\n",
       "      <th>bollinger_lower</th>\n",
       "      <th>diff_bollinger_upper</th>\n",
       "      <th>diff_bollinger_lower</th>\n",
       "      <th>diff_sma_3</th>\n",
       "      <th>diff_sma_6</th>\n",
       "      <th>diff_sma_12</th>\n",
       "      <th>signal</th>\n",
       "      <th>tag</th>\n",
       "    </tr>\n",
       "  </thead>\n",
       "  <tbody>\n",
       "    <tr>\n",
       "      <th>0</th>\n",
       "      <td>0</td>\n",
       "      <td>1504272600000</td>\n",
       "      <td>390.01</td>\n",
       "      <td>390.26</td>\n",
       "      <td>389.22</td>\n",
       "      <td>389.95</td>\n",
       "      <td>31.36796</td>\n",
       "      <td>1504273499999</td>\n",
       "      <td>12230.265145</td>\n",
       "      <td>33</td>\n",
       "      <td>...</td>\n",
       "      <td>391.308471</td>\n",
       "      <td>389.3110</td>\n",
       "      <td>387.313529</td>\n",
       "      <td>-1.358471</td>\n",
       "      <td>2.636471</td>\n",
       "      <td>-0.040000</td>\n",
       "      <td>0.620000</td>\n",
       "      <td>0.584167</td>\n",
       "      <td>1</td>\n",
       "      <td>1</td>\n",
       "    </tr>\n",
       "    <tr>\n",
       "      <th>1</th>\n",
       "      <td>1</td>\n",
       "      <td>1504273500000</td>\n",
       "      <td>390.60</td>\n",
       "      <td>391.00</td>\n",
       "      <td>389.33</td>\n",
       "      <td>390.50</td>\n",
       "      <td>44.61277</td>\n",
       "      <td>1504274399999</td>\n",
       "      <td>17415.334113</td>\n",
       "      <td>54</td>\n",
       "      <td>...</td>\n",
       "      <td>391.413983</td>\n",
       "      <td>389.3520</td>\n",
       "      <td>387.290017</td>\n",
       "      <td>-0.913983</td>\n",
       "      <td>3.209983</td>\n",
       "      <td>0.346667</td>\n",
       "      <td>0.838333</td>\n",
       "      <td>1.082500</td>\n",
       "      <td>1</td>\n",
       "      <td>1</td>\n",
       "    </tr>\n",
       "    <tr>\n",
       "      <th>2</th>\n",
       "      <td>2</td>\n",
       "      <td>1504274400000</td>\n",
       "      <td>390.78</td>\n",
       "      <td>391.06</td>\n",
       "      <td>388.80</td>\n",
       "      <td>388.80</td>\n",
       "      <td>77.89239</td>\n",
       "      <td>1504275299999</td>\n",
       "      <td>30411.035081</td>\n",
       "      <td>87</td>\n",
       "      <td>...</td>\n",
       "      <td>390.844858</td>\n",
       "      <td>389.1920</td>\n",
       "      <td>387.539142</td>\n",
       "      <td>-2.044858</td>\n",
       "      <td>1.260858</td>\n",
       "      <td>-0.950000</td>\n",
       "      <td>-0.878333</td>\n",
       "      <td>-0.659167</td>\n",
       "      <td>1</td>\n",
       "      <td>1</td>\n",
       "    </tr>\n",
       "    <tr>\n",
       "      <th>3</th>\n",
       "      <td>3</td>\n",
       "      <td>1504275300000</td>\n",
       "      <td>388.81</td>\n",
       "      <td>388.81</td>\n",
       "      <td>386.73</td>\n",
       "      <td>386.83</td>\n",
       "      <td>58.66071</td>\n",
       "      <td>1504276199999</td>\n",
       "      <td>22756.111613</td>\n",
       "      <td>33</td>\n",
       "      <td>...</td>\n",
       "      <td>391.015535</td>\n",
       "      <td>389.0610</td>\n",
       "      <td>387.106465</td>\n",
       "      <td>-4.185535</td>\n",
       "      <td>-0.276465</td>\n",
       "      <td>-1.880000</td>\n",
       "      <td>-2.520000</td>\n",
       "      <td>-2.365000</td>\n",
       "      <td>1</td>\n",
       "      <td>1</td>\n",
       "    </tr>\n",
       "    <tr>\n",
       "      <th>4</th>\n",
       "      <td>4</td>\n",
       "      <td>1504276200000</td>\n",
       "      <td>387.58</td>\n",
       "      <td>388.51</td>\n",
       "      <td>386.88</td>\n",
       "      <td>387.80</td>\n",
       "      <td>25.33450</td>\n",
       "      <td>1504277099999</td>\n",
       "      <td>9824.113039</td>\n",
       "      <td>23</td>\n",
       "      <td>...</td>\n",
       "      <td>390.999972</td>\n",
       "      <td>388.9775</td>\n",
       "      <td>386.955028</td>\n",
       "      <td>-3.199972</td>\n",
       "      <td>0.844972</td>\n",
       "      <td>-0.010000</td>\n",
       "      <td>-1.181667</td>\n",
       "      <td>-1.257500</td>\n",
       "      <td>1</td>\n",
       "      <td>1</td>\n",
       "    </tr>\n",
       "  </tbody>\n",
       "</table>\n",
       "<p>5 rows × 36 columns</p>\n",
       "</div>"
      ],
      "text/plain": [
       "   Unnamed: 0      open_time    open    high     low   close    volume  \\\n",
       "0           0  1504272600000  390.01  390.26  389.22  389.95  31.36796   \n",
       "1           1  1504273500000  390.60  391.00  389.33  390.50  44.61277   \n",
       "2           2  1504274400000  390.78  391.06  388.80  388.80  77.89239   \n",
       "3           3  1504275300000  388.81  388.81  386.73  386.83  58.66071   \n",
       "4           4  1504276200000  387.58  388.51  386.88  387.80  25.33450   \n",
       "\n",
       "      close_time  quote_asset_volume  number_of_trades  ...  bollinger_upper  \\\n",
       "0  1504273499999        12230.265145                33  ...       391.308471   \n",
       "1  1504274399999        17415.334113                54  ...       391.413983   \n",
       "2  1504275299999        30411.035081                87  ...       390.844858   \n",
       "3  1504276199999        22756.111613                33  ...       391.015535   \n",
       "4  1504277099999         9824.113039                23  ...       390.999972   \n",
       "\n",
       "   bollinger_middle  bollinger_lower  diff_bollinger_upper  \\\n",
       "0          389.3110       387.313529             -1.358471   \n",
       "1          389.3520       387.290017             -0.913983   \n",
       "2          389.1920       387.539142             -2.044858   \n",
       "3          389.0610       387.106465             -4.185535   \n",
       "4          388.9775       386.955028             -3.199972   \n",
       "\n",
       "   diff_bollinger_lower  diff_sma_3  diff_sma_6  diff_sma_12  signal  tag  \n",
       "0              2.636471   -0.040000    0.620000     0.584167       1    1  \n",
       "1              3.209983    0.346667    0.838333     1.082500       1    1  \n",
       "2              1.260858   -0.950000   -0.878333    -0.659167       1    1  \n",
       "3             -0.276465   -1.880000   -2.520000    -2.365000       1    1  \n",
       "4              0.844972   -0.010000   -1.181667    -1.257500       1    1  \n",
       "\n",
       "[5 rows x 36 columns]"
      ]
     },
     "execution_count": 4,
     "metadata": {},
     "output_type": "execute_result"
    }
   ],
   "source": [
    "df.head()"
   ]
  },
  {
   "cell_type": "code",
   "execution_count": 5,
   "metadata": {
    "execution": {
     "iopub.execute_input": "2023-10-28T08:33:27.172438Z",
     "iopub.status.busy": "2023-10-28T08:33:27.172076Z",
     "iopub.status.idle": "2023-10-28T08:33:27.850960Z",
     "shell.execute_reply": "2023-10-28T08:33:27.850090Z",
     "shell.execute_reply.started": "2023-10-28T08:33:27.172413Z"
    },
    "scrolled": true
   },
   "outputs": [],
   "source": [
    "df.drop(columns=[\"Unnamed: 0\"], inplace=True)"
   ]
  },
  {
   "cell_type": "code",
   "execution_count": 6,
   "metadata": {
    "execution": {
     "iopub.execute_input": "2023-10-28T08:33:27.853452Z",
     "iopub.status.busy": "2023-10-28T08:33:27.853047Z",
     "iopub.status.idle": "2023-10-28T08:33:27.922898Z",
     "shell.execute_reply": "2023-10-28T08:33:27.922166Z",
     "shell.execute_reply.started": "2023-10-28T08:33:27.853427Z"
    },
    "scrolled": true
   },
   "outputs": [
    {
     "data": {
      "text/plain": [
       "(200854, 35)"
      ]
     },
     "execution_count": 6,
     "metadata": {},
     "output_type": "execute_result"
    }
   ],
   "source": [
    "# 只使用btc和eth的数据进行训练 ETH-1 BTC-2\n",
    "df = df[df['tag'].isin([2])]\n",
    "df.shape"
   ]
  },
  {
   "cell_type": "code",
   "execution_count": 8,
   "metadata": {},
   "outputs": [
    {
     "data": {
      "text/plain": [
       "signal\n",
       "1    189482\n",
       "2      5276\n",
       "3      5158\n",
       "4       469\n",
       "6       469\n",
       "dtype: int64"
      ]
     },
     "execution_count": 8,
     "metadata": {},
     "output_type": "execute_result"
    }
   ],
   "source": [
    "# 计算特征每个类信息有多少个\n",
    "df[['signal']].groupby(['signal']).size()"
   ]
  },
  {
   "cell_type": "code",
   "execution_count": 13,
   "metadata": {
    "execution": {
     "iopub.execute_input": "2023-10-28T08:33:27.924437Z",
     "iopub.status.busy": "2023-10-28T08:33:27.923870Z",
     "iopub.status.idle": "2023-10-28T08:33:32.422498Z",
     "shell.execute_reply": "2023-10-28T08:33:32.421638Z",
     "shell.execute_reply.started": "2023-10-28T08:33:27.924408Z"
    },
    "scrolled": true,
    "tags": []
   },
   "outputs": [],
   "source": [
    "# 对数据进行分割\n",
    "def create_time_series_data(data, window_size):\n",
    "    X = np.zeros((len(data) - window_size, window_size * (data.shape[1] - 1)))\n",
    "    y = np.zeros(len(data) - window_size)\n",
    "    for i in range(len(data) - window_size):\n",
    "        X[i] = data[i:i + window_size, :-1].flatten()  # 提取前n个时间点的所有特征作为输入特征\n",
    "        y[i] = int(data[i + window_size, -2])  # 提取第n+1个时间点的signal作为标签，并转换为int类型\n",
    "    return X, y\n",
    "\n",
    "# 重构数据\n",
    "window_size = 200  # 选择窗口大小\n",
    "data = df.values\n",
    "X, y = create_time_series_data(data, window_size)\n",
    "\n",
    "# 展平时间窗口数据以适应XGBoost模型\n",
    "X_flattened = X.reshape(X.shape[0], -1)"
   ]
  },
  {
   "cell_type": "code",
   "execution_count": null,
   "metadata": {
    "scrolled": true
   },
   "outputs": [],
   "source": [
    "# 选择前70%的数据作为训练集，剩余30%作为测试集。保持数据的顺序\n",
    "split_boundary = int(X.shape[0] * 0.7)\n",
    "X_train = X_flattened[: split_boundary]\n",
    "y_train = y[: split_boundary]\n",
    "X_test = X_flattened[split_boundary:]\n",
    "y_test = y[split_boundary:]"
   ]
  },
  {
   "cell_type": "code",
   "execution_count": null,
   "metadata": {},
   "outputs": [],
   "source": [
    "# 使用XGBoost模型进行训练\n",
    "from xgboost import XGBClassifier\n",
    "from sklearn.metrics import accuracy_score\n",
    "from sklearn.preprocessing import LabelEncoder\n"
   ]
  },
  {
   "cell_type": "code",
   "execution_count": null,
   "metadata": {},
   "outputs": [],
   "source": [
    "# 由于训练数据中标签为1的比重过大，为了避免模型过于关注标签为1的数据，给其他标签的数据设置更大的权重\n",
    "def compute_weights(y):\n",
    "    # 初始化权重为1\n",
    "    weights = np.ones(len(y))\n",
    "    \n",
    "    # 找到标签为1的位置\n",
    "    indices_one = np.where(y == 1)[0]\n",
    "    \n",
    "    # 找到标签不为1的位置\n",
    "    indices_not_one = np.where(y == 2)[0]\n",
    "\n",
    "    indices_not_thr = np.where(y == 3)[0]\n",
    "\n",
    "    indices_not_four = np.where(y == 4)[0]\n",
    "\n",
    "    indices_not_six = np.where(y == 6)[0]\n",
    "\n",
    "    \n",
    "    # 设置标签为1的权重为1\n",
    "    weights[indices_one] = 1\n",
    "    \n",
    "    # 设置标签不为1的权重为20\n",
    "    weights[indices_not_one] = 24\n",
    "    weights[indices_not_thr] = 24\n",
    "    weights[indices_not_four] = 53\n",
    "    weights[indices_not_six] = 53\n",
    "    \n",
    "    return weights"
   ]
  },
  {
   "cell_type": "code",
   "execution_count": null,
   "metadata": {},
   "outputs": [],
   "source": [
    "\n",
    "encoder = LabelEncoder()\n",
    "y_train_encoded = encoder.fit_transform(y_train)\n",
    "\n",
    "model = XGBClassifier(\n",
    "    eta=0.3, \n",
    "    max_depth=6,  \n",
    "    objective='multi:softmax',  # 多分类的问题\n",
    "    learning_rate=0.1,\n",
    "    tree_method='gpu_hist',  # 使用GPU\n",
    "    n_jobs=-1,  # 使用全部的CPU线程数进行并行运算    \n",
    "    num_class=5,  # 类别数\n",
    "    n_estimators=850,\n",
    ")\n",
    "\n",
    "\n",
    "# 计算训练集中每个样本的权重\n",
    "weights = compute_weights(y_train)\n",
    "\n",
    "\n",
    "model.fit(X_train, y_train_encoded,sample_weight=weights)\n",
    "\n",
    "# 对测试集进行预测\n",
    "y_pred = model.predict(X_test)\n",
    "predictions = encoder.inverse_transform([round(value) for value in y_pred])\n",
    "\n",
    "# 创建一个掩码，标记出真实标签不为1的位置\n",
    "mask = y_test != 1\n",
    "\n",
    "# 使用掩码过滤预测结果和真实标签\n",
    "predictions_filtered = predictions[mask]\n",
    "y_test_filtered = y_test[mask]\n",
    "\n",
    "# 评估预测结果\n",
    "accuracy = accuracy_score(y_test_filtered, predictions_filtered)\n",
    "print(\"Accuracy: %.2f%%\" % (accuracy * 100.0))\n",
    "\n",
    "accuracy = accuracy_score(y_test, predictions)\n",
    "print(\"Accuracy: %.2f%%\" % (accuracy * 100.0))"
   ]
  }
 ],
 "metadata": {
  "kernelspec": {
   "display_name": "base",
   "language": "python",
   "name": "python3"
  },
  "language_info": {
   "codemirror_mode": {
    "name": "ipython",
    "version": 3
   },
   "file_extension": ".py",
   "mimetype": "text/x-python",
   "name": "python",
   "nbconvert_exporter": "python",
   "pygments_lexer": "ipython3",
   "version": "3.9.7"
  }
 },
 "nbformat": 4,
 "nbformat_minor": 4
}
